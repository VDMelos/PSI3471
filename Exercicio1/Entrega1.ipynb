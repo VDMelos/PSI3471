{
  "cells": [
    {
      "cell_type": "markdown",
      "metadata": {
        "id": "view-in-github",
        "colab_type": "text"
      },
      "source": [
        "<a href=\"https://colab.research.google.com/github/VDMelos/PSI3471/blob/main/Exercicio1/Entrega1.ipynb\" target=\"_parent\"><img src=\"https://colab.research.google.com/assets/colab-badge.svg\" alt=\"Open In Colab\"/></a>"
      ]
    },
    {
      "cell_type": "markdown",
      "metadata": {
        "id": "19QN2GEl9xS_"
      },
      "source": [
        "# PSI3471 - Entrega 01 \n",
        "### Fernando Zolubas Preto - NUSP: 10694192\n",
        "### Vinícius Melo de Souza - NUSP: 10772272\n",
        "# Regressão Linear "
      ]
    },
    {
      "cell_type": "markdown",
      "metadata": {
        "id": "GxYC7nW99xTC"
      },
      "source": [
        "Neste exercício queremos prever o preço de carros do _\"Used Cars Dataset\"_ do site `Craiglist.org`.\n",
        "\n",
        "No caso, os dados já foram limpos e filtrados para facilitar o entendimento e o andamento do exercício, para conseguirmos dar foco na utilização da técnica dos mínimos quadrados. Os dados limpos estão em um arquivo CSV que podemos puxar do site da disciplina. Este arquivo será importado através da biblioteca \"Panda\" do python que foi instalada no computador previamente."
      ]
    },
    {
      "cell_type": "code",
      "execution_count": 4,
      "metadata": {
        "id": "JQBa6FGx9xTD",
        "outputId": "86b3de47-684e-4c4b-fc49-7ce16ed693d3",
        "colab": {
          "base_uri": "https://localhost:8080/",
          "height": 112
        }
      },
      "outputs": [
        {
          "output_type": "execute_result",
          "data": {
            "text/plain": [
              "          version https://git-lfs.github.com/spec/v1\n",
              "0  oid sha256:37f4aa43f6e53488a7297e151d0364d63a2...\n",
              "1                                        size 555366"
            ],
            "text/html": [
              "\n",
              "  <div id=\"df-10f4425a-afe8-428e-af61-cc06a2981d4e\">\n",
              "    <div class=\"colab-df-container\">\n",
              "      <div>\n",
              "<style scoped>\n",
              "    .dataframe tbody tr th:only-of-type {\n",
              "        vertical-align: middle;\n",
              "    }\n",
              "\n",
              "    .dataframe tbody tr th {\n",
              "        vertical-align: top;\n",
              "    }\n",
              "\n",
              "    .dataframe thead th {\n",
              "        text-align: right;\n",
              "    }\n",
              "</style>\n",
              "<table border=\"1\" class=\"dataframe\">\n",
              "  <thead>\n",
              "    <tr style=\"text-align: right;\">\n",
              "      <th></th>\n",
              "      <th>version https://git-lfs.github.com/spec/v1</th>\n",
              "    </tr>\n",
              "  </thead>\n",
              "  <tbody>\n",
              "    <tr>\n",
              "      <th>0</th>\n",
              "      <td>oid sha256:37f4aa43f6e53488a7297e151d0364d63a2...</td>\n",
              "    </tr>\n",
              "    <tr>\n",
              "      <th>1</th>\n",
              "      <td>size 555366</td>\n",
              "    </tr>\n",
              "  </tbody>\n",
              "</table>\n",
              "</div>\n",
              "      <button class=\"colab-df-convert\" onclick=\"convertToInteractive('df-10f4425a-afe8-428e-af61-cc06a2981d4e')\"\n",
              "              title=\"Convert this dataframe to an interactive table.\"\n",
              "              style=\"display:none;\">\n",
              "        \n",
              "  <svg xmlns=\"http://www.w3.org/2000/svg\" height=\"24px\"viewBox=\"0 0 24 24\"\n",
              "       width=\"24px\">\n",
              "    <path d=\"M0 0h24v24H0V0z\" fill=\"none\"/>\n",
              "    <path d=\"M18.56 5.44l.94 2.06.94-2.06 2.06-.94-2.06-.94-.94-2.06-.94 2.06-2.06.94zm-11 1L8.5 8.5l.94-2.06 2.06-.94-2.06-.94L8.5 2.5l-.94 2.06-2.06.94zm10 10l.94 2.06.94-2.06 2.06-.94-2.06-.94-.94-2.06-.94 2.06-2.06.94z\"/><path d=\"M17.41 7.96l-1.37-1.37c-.4-.4-.92-.59-1.43-.59-.52 0-1.04.2-1.43.59L10.3 9.45l-7.72 7.72c-.78.78-.78 2.05 0 2.83L4 21.41c.39.39.9.59 1.41.59.51 0 1.02-.2 1.41-.59l7.78-7.78 2.81-2.81c.8-.78.8-2.07 0-2.86zM5.41 20L4 18.59l7.72-7.72 1.47 1.35L5.41 20z\"/>\n",
              "  </svg>\n",
              "      </button>\n",
              "      \n",
              "  <style>\n",
              "    .colab-df-container {\n",
              "      display:flex;\n",
              "      flex-wrap:wrap;\n",
              "      gap: 12px;\n",
              "    }\n",
              "\n",
              "    .colab-df-convert {\n",
              "      background-color: #E8F0FE;\n",
              "      border: none;\n",
              "      border-radius: 50%;\n",
              "      cursor: pointer;\n",
              "      display: none;\n",
              "      fill: #1967D2;\n",
              "      height: 32px;\n",
              "      padding: 0 0 0 0;\n",
              "      width: 32px;\n",
              "    }\n",
              "\n",
              "    .colab-df-convert:hover {\n",
              "      background-color: #E2EBFA;\n",
              "      box-shadow: 0px 1px 2px rgba(60, 64, 67, 0.3), 0px 1px 3px 1px rgba(60, 64, 67, 0.15);\n",
              "      fill: #174EA6;\n",
              "    }\n",
              "\n",
              "    [theme=dark] .colab-df-convert {\n",
              "      background-color: #3B4455;\n",
              "      fill: #D2E3FC;\n",
              "    }\n",
              "\n",
              "    [theme=dark] .colab-df-convert:hover {\n",
              "      background-color: #434B5C;\n",
              "      box-shadow: 0px 1px 3px 1px rgba(0, 0, 0, 0.15);\n",
              "      filter: drop-shadow(0px 1px 2px rgba(0, 0, 0, 0.3));\n",
              "      fill: #FFFFFF;\n",
              "    }\n",
              "  </style>\n",
              "\n",
              "      <script>\n",
              "        const buttonEl =\n",
              "          document.querySelector('#df-10f4425a-afe8-428e-af61-cc06a2981d4e button.colab-df-convert');\n",
              "        buttonEl.style.display =\n",
              "          google.colab.kernel.accessAllowed ? 'block' : 'none';\n",
              "\n",
              "        async function convertToInteractive(key) {\n",
              "          const element = document.querySelector('#df-10f4425a-afe8-428e-af61-cc06a2981d4e');\n",
              "          const dataTable =\n",
              "            await google.colab.kernel.invokeFunction('convertToInteractive',\n",
              "                                                     [key], {});\n",
              "          if (!dataTable) return;\n",
              "\n",
              "          const docLinkHtml = 'Like what you see? Visit the ' +\n",
              "            '<a target=\"_blank\" href=https://colab.research.google.com/notebooks/data_table.ipynb>data table notebook</a>'\n",
              "            + ' to learn more about interactive tables.';\n",
              "          element.innerHTML = '';\n",
              "          dataTable['output_type'] = 'display_data';\n",
              "          await google.colab.output.renderOutput(dataTable, element);\n",
              "          const docLink = document.createElement('div');\n",
              "          docLink.innerHTML = docLinkHtml;\n",
              "          element.appendChild(docLink);\n",
              "        }\n",
              "      </script>\n",
              "    </div>\n",
              "  </div>\n",
              "  "
            ]
          },
          "metadata": {},
          "execution_count": 4
        }
      ],
      "source": [
        "#How to import a csv from github: https://towardsdatascience.com/3-ways-to-load-csv-files-into-colab-7c14fcbdcb92\n",
        "import pandas as pd\n",
        "#cars_data = pd.read_csv(\"vehicles_cleaned_train.csv\")\n",
        "cars_data = pd.read_csv(\"https://raw.githubusercontent.com/VDMelos/PSI3471/main/Exercicio1/vehicles_cleaned_train.csv\")\n",
        "cars_data.head()"
      ]
    },
    {
      "cell_type": "markdown",
      "metadata": {
        "id": "8yAkbKq-9xTE"
      },
      "source": [
        "Com esses dados, queremos criar um _\"DataFrame\"_ que estaremos chamando de __cars_data__, que irá conter esses dados do arquivo CSV. Neste _DataFrame_ estaremos gerando os arrays NumPy para calcular os parâmetros do modelo de regressão linear.\n",
        "\n",
        "O banco de dados limpo possui os seguintes dados(exemplo):\n",
        "\n",
        "||price|year|condition|cylinders|fuel|odometer|transmission|size|type|\n",
        "|:--|:--|:--|:--|:--|:--|:--|:--|:--|:--|\n",
        "|0|10400|2011|excellent|4 cylinders|gas|81300|automatic|mid-size|sedan|\n",
        "|1|6900|2007|excellent|6 cylinders|gas|79000|automatic|full-size|sedan|\n",
        "|2|18900|2018|like new|4 cylinders|gas|5000|automatic|full-size|sedan|\n",
        "|3|6000|2010|excellent|4 cylinders|gas|97600|automatic|mid-size|hatchback|\n",
        "|4|19995|2013|good|6 cylinders|gas|95782|automatic|mid-size|sedan|\n",
        "\n",
        "Temos essas 9 colunas que se referem à:\n",
        "\n",
        "- __Price__: O preço do carro. É o dado que desejamos obter com o modelo.\n",
        "- __Year__: Ano do carro.\n",
        "- __Condition__: Variável categórica que indica a condição do carro. Pode ter os valores _good_, _fair_, _excellent_, _like new_, _salvage_, ou _new_.\n",
        "- __Cylinders__: Variável categórica que indica o número de cilindros do motor. Pode ter os valores _4 cylinders_ ou _6 cylinders_.\n",
        "- __Fuel__: Variável categórica que indica o combustível do carro. Pode ter os valores _gas_ ou _diesel_.\n",
        "- __Odometer__: Valor registrado no odômetro, em milhas.\n",
        "- __Transmission__: Variável categórica que indica o tipo de transmissão. Pode ter os valores _automatic_ ou _manual_.\n",
        "- __Size__: Variável categórica que indica o tamanho do carro. Pode ter os valores _compact_, _mid-size_, _sub-compact_ ou _full-size_.\n",
        "- __Type__:\tVariável categórica que indica o tipo do carro. Pode ter os valores _sedan_, _coupe_, _wagon_, ou _hatchback_.\n",
        "\n",
        "\n",
        "Para usar os dados categóricos de forma numérica iremos estar utilizando variáveis _dummy_.\n",
        "\n",
        "E por fim, para obter o vetor \"wo\" vamos seguir os seguintes passos.\n",
        "\n",
        "1. Selecionar o conjunto de variáveis originais que vocễ vai utilizar no modelo.\n",
        "2. Substituir cada variável categórica de sua seleção por um conjunto de variáveis dummy, conforme descrito anteriormente.\n",
        "3. Transformar as variáveis originais de sua seleção e / ou incluir combinações, caso julgue necessário;\n",
        "4. A partir de sua seleção de dados, obter a matriz X e o vetor d, que podem ser representados como arrays do NumPy.\n",
        "5. Usando a matriz X e o vetor d, calcular o vetor wo e o erro quadrático médio conforme mostrado na aula."
      ]
    },
    {
      "cell_type": "markdown",
      "metadata": {
        "id": "Et9LEfOw9xTF"
      },
      "source": [
        "### Minha solução\n",
        "\n",
        "1. Minhas variáveis originais:\n",
        "\n",
        "- DEFINIR QUAIS VARIAVEIS VAMOS QUERER USAR\n",
        "\n",
        "2. Substituindo as variáveis categóricas por variáveis dummy:"
      ]
    },
    {
      "cell_type": "code",
      "execution_count": null,
      "metadata": {
        "id": "Shb3TmYZ9xTF"
      },
      "outputs": [],
      "source": [
        "# Condition\n",
        "dummies = pd.get_dummies(cars_data, prefix='condition')\n",
        "cars_data = pd.concat([cars_data, dummies],axis = 1)\n"
      ]
    },
    {
      "cell_type": "markdown",
      "metadata": {
        "id": "8ZSXTdAW9xTG"
      },
      "source": [
        "3. Transformar variáveis:\n",
        "\n",
        "- Acho interessante trocar o \"Year\" por \"Idade\" do carro, acho que é mais interessante encontrar a relação entre idade do carro e o preço.\n",
        "- Acho interessante entender a relação entre \"Quilometragem\" pela \"Idade\" (divisão).\n",
        "\n",
        "E para criar elas no DataFrame:"
      ]
    },
    {
      "cell_type": "code",
      "execution_count": null,
      "metadata": {
        "id": "w7hwU3AZ9xTG"
      },
      "outputs": [],
      "source": []
    },
    {
      "cell_type": "markdown",
      "metadata": {
        "id": "vFuNq4PC9xTG"
      },
      "source": [
        "4. Obter matriz X e o vetor d"
      ]
    },
    {
      "cell_type": "code",
      "execution_count": null,
      "metadata": {
        "id": "n1bhDUoQ9xTH"
      },
      "outputs": [],
      "source": []
    }
  ],
  "metadata": {
    "kernelspec": {
      "display_name": "Python 3",
      "language": "python",
      "name": "python3"
    },
    "language_info": {
      "codemirror_mode": {
        "name": "ipython",
        "version": 3
      },
      "file_extension": ".py",
      "mimetype": "text/x-python",
      "name": "python",
      "nbconvert_exporter": "python",
      "pygments_lexer": "ipython3",
      "version": "3.11.2"
    },
    "orig_nbformat": 4,
    "colab": {
      "provenance": [],
      "include_colab_link": true
    }
  },
  "nbformat": 4,
  "nbformat_minor": 0
}