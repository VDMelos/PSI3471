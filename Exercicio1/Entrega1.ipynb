{
 "cells": [
  {
   "attachments": {},
   "cell_type": "markdown",
   "metadata": {},
   "source": [
    "# PSI3471 - Entrega 01 \n",
    "### Fernando Zolubas Preto - NUSP: 10694192\n",
    "### Vinícius Melo de Souza - NUSP: 10772272\n",
    "# Regressão Linear "
   ]
  },
  {
   "cell_type": "markdown",
   "metadata": {},
   "source": [
    "Neste exercício queremos prever o preço de carros do _\"Used Cars Dataset\"_ do site `Craiglist.org`.\n",
    "\n",
    "No caso, os dados já foram limpos e filtrados para facilitar o entendimento e o andamento do exercício, para conseguirmos dar foco na utilização da técnica dos mínimos quadrados. Os dados limpos estão em um arquivo CSV que podemos puxar do site da disciplina. Este arquivo será importado através da biblioteca \"Panda\" do python que foi instalada no computador previamente."
   ]
  },
  {
   "cell_type": "code",
   "execution_count": 4,
   "metadata": {},
   "outputs": [
    {
     "data": {
      "text/html": [
       "<div>\n",
       "<style scoped>\n",
       "    .dataframe tbody tr th:only-of-type {\n",
       "        vertical-align: middle;\n",
       "    }\n",
       "\n",
       "    .dataframe tbody tr th {\n",
       "        vertical-align: top;\n",
       "    }\n",
       "\n",
       "    .dataframe thead th {\n",
       "        text-align: right;\n",
       "    }\n",
       "</style>\n",
       "<table border=\"1\" class=\"dataframe\">\n",
       "  <thead>\n",
       "    <tr style=\"text-align: right;\">\n",
       "      <th></th>\n",
       "      <th>version https://git-lfs.github.com/spec/v1</th>\n",
       "    </tr>\n",
       "  </thead>\n",
       "  <tbody>\n",
       "    <tr>\n",
       "      <th>0</th>\n",
       "      <td>oid sha256:37f4aa43f6e53488a7297e151d0364d63a2...</td>\n",
       "    </tr>\n",
       "    <tr>\n",
       "      <th>1</th>\n",
       "      <td>size 555366</td>\n",
       "    </tr>\n",
       "  </tbody>\n",
       "</table>\n",
       "</div>"
      ],
      "text/plain": [
       "          version https://git-lfs.github.com/spec/v1\n",
       "0  oid sha256:37f4aa43f6e53488a7297e151d0364d63a2...\n",
       "1                                        size 555366"
      ]
     },
     "execution_count": 4,
     "metadata": {},
     "output_type": "execute_result"
    }
   ],
   "source": [
    "import pandas as pd\n",
    "cars_data = pd.read_csv(\"vehicles_cleaned_train.csv\")\n",
    "cars_data.head()"
   ]
  },
  {
   "cell_type": "markdown",
   "metadata": {},
   "source": [
    "Com esses dados, queremos criar um _\"DataFrame\"_ que estaremos chamando de __cars_data__, que irá conter esses dados do arquivo CSV. Neste _DataFrame_ estaremos gerando os arrays NumPy para calcular os parâmetros do modelo de regressão linear.\n",
    "\n",
    "O banco de dados limpo possui os seguintes dados(exemplo):\n",
    "\n",
    "||price|year|condition|cylinders|fuel|odometer|transmission|size|type|\n",
    "|:--|:--|:--|:--|:--|:--|:--|:--|:--|:--|\n",
    "|0|10400|2011|excellent|4 cylinders|gas|81300|automatic|mid-size|sedan|\n",
    "|1|6900|2007|excellent|6 cylinders|gas|79000|automatic|full-size|sedan|\n",
    "|2|18900|2018|like new|4 cylinders|gas|5000|automatic|full-size|sedan|\n",
    "|3|6000|2010|excellent|4 cylinders|gas|97600|automatic|mid-size|hatchback|\n",
    "|4|19995|2013|good|6 cylinders|gas|95782|automatic|mid-size|sedan|\n",
    "\n",
    "Temos essas 9 colunas que se referem à:\n",
    "\n",
    "- __Price__: O preço do carro. É o dado que desejamos obter com o modelo.\n",
    "- __Year__: Ano do carro.\n",
    "- __Condition__: Variável categórica que indica a condição do carro. Pode ter os valores _good_, _fair_, _excellent_, _like new_, _salvage_, ou _new_.\n",
    "- __Cylinders__: Variável categórica que indica o número de cilindros do motor. Pode ter os valores _4 cylinders_ ou _6 cylinders_.\n",
    "- __Fuel__: Variável categórica que indica o combustível do carro. Pode ter os valores _gas_ ou _diesel_.\n",
    "- __Odometer__: Valor registrado no odômetro, em milhas.\n",
    "- __Transmission__: Variável categórica que indica o tipo de transmissão. Pode ter os valores _automatic_ ou _manual_.\n",
    "- __Size__: Variável categórica que indica o tamanho do carro. Pode ter os valores _compact_, _mid-size_, _sub-compact_ ou _full-size_.\n",
    "- __Type__:\tVariável categórica que indica o tipo do carro. Pode ter os valores _sedan_, _coupe_, _wagon_, ou _hatchback_.\n",
    "\n",
    "\n",
    "Para usar os dados categóricos de forma numérica iremos estar utilizando variáveis _dummy_.\n",
    "\n",
    "E por fim, para obter o vetor \"wo\" vamos seguir os seguintes passos.\n",
    "\n",
    "1. Selecionar o conjunto de variáveis originais que vocễ vai utilizar no modelo.\n",
    "2. Substituir cada variável categórica de sua seleção por um conjunto de variáveis dummy, conforme descrito anteriormente.\n",
    "3. Transformar as variáveis originais de sua seleção e / ou incluir combinações, caso julgue necessário;\n",
    "4. A partir de sua seleção de dados, obter a matriz X e o vetor d, que podem ser representados como arrays do NumPy.\n",
    "5. Usando a matriz X e o vetor d, calcular o vetor wo e o erro quadrático médio conforme mostrado na aula."
   ]
  },
  {
   "attachments": {},
   "cell_type": "markdown",
   "metadata": {},
   "source": [
    "### Minha solução\n",
    "\n",
    "1. Minhas variáveis originais:\n",
    "\n",
    "- DEFINIR QUAIS VARIAVEIS VAMOS QUERER USAR\n",
    "\n",
    "2. Substituindo as variáveis categóricas por variáveis dummy:"
   ]
  },
  {
   "cell_type": "code",
   "execution_count": 5,
   "metadata": {},
   "outputs": [],
   "source": [
    "# Condition\n",
    "dummies = pd.get_dummies(cars_data, prefix='condition')\n",
    "cars_data = pd.concat([cars_data, dummies],axis = 1)\n"
   ]
  },
  {
   "cell_type": "markdown",
   "metadata": {},
   "source": [
    "3. Transformar variáveis:\n",
    "\n",
    "- Acho interessante trocar o \"Year\" por \"Idade\" do carro, acho que é mais interessante encontrar a relação entre idade do carro e o preço.\n",
    "- Acho interessante entender a relação entre \"Quilometragem\" pela \"Idade\" (divisão).\n",
    "\n",
    "E para criar elas no DataFrame:"
   ]
  },
  {
   "cell_type": "code",
   "execution_count": null,
   "metadata": {},
   "outputs": [],
   "source": []
  },
  {
   "cell_type": "markdown",
   "metadata": {},
   "source": [
    "4. Obter matriz X e o vetor d"
   ]
  },
  {
   "cell_type": "code",
   "execution_count": null,
   "metadata": {},
   "outputs": [],
   "source": []
  }
 ],
 "metadata": {
  "kernelspec": {
   "display_name": "Python 3",
   "language": "python",
   "name": "python3"
  },
  "language_info": {
   "codemirror_mode": {
    "name": "ipython",
    "version": 3
   },
   "file_extension": ".py",
   "mimetype": "text/x-python",
   "name": "python",
   "nbconvert_exporter": "python",
   "pygments_lexer": "ipython3",
   "version": "3.11.2"
  },
  "orig_nbformat": 4
 },
 "nbformat": 4,
 "nbformat_minor": 2
}
