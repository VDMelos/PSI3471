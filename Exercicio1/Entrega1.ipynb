{
 "cells": [
  {
   "attachments": {},
   "cell_type": "markdown",
   "metadata": {},
   "source": [
    "# PSI3471 - Entrega 01 \n",
    "### Fernando Zolubas Preto - NUSP: 10694192\n",
    "### Vinícius Melo de Souza - NUSP: 10772272\n",
    "# Regressão Linear "
   ]
  },
  {
   "attachments": {},
   "cell_type": "markdown",
   "metadata": {},
   "source": [
    "# Tarefas\n",
    "\n",
    "- 0) Intuir combinação de variaveis ótima\n",
    "\n",
    "- 1) Criar Função que dada uma tabela de dados retorna a regressão para preço\n",
    "\n",
    "- 2) Dummyzar variaveis qualitativas\n",
    "\n",
    "- 3) Criar Variaveis Novas\n",
    "\n",
    "- 4) Chamar Função para todas as combinações de variaveis, salvar predição da base testes e escolher melhor.\n",
    "\n",
    "- 5) Comparar resultado da intuição versus melhor resultado numerico obtido"
   ]
  },
  {
   "cell_type": "markdown",
   "metadata": {},
   "source": [
    "Neste exercício queremos prever o preço de carros do _\"Used Cars Dataset\"_ do site `Craiglist.org`.\n",
    "\n",
    "No caso, os dados já foram limpos e filtrados para facilitar o entendimento e o andamento do exercício, para conseguirmos dar foco na utilização da técnica dos mínimos quadrados. Os dados limpos estão em um arquivo CSV que podemos puxar do site da disciplina. Este arquivo será importado através da biblioteca \"Panda\" do python que foi instalada no computador previamente."
   ]
  },
  {
   "cell_type": "code",
   "execution_count": 27,
   "metadata": {},
   "outputs": [],
   "source": [
    "import pandas as pd\n",
    "import numpy as np\n",
    "cars_data = pd.read_csv(\"vehicles_cleaned_train.csv\")"
   ]
  },
  {
   "attachments": {},
   "cell_type": "markdown",
   "metadata": {},
   "source": [
    "Com esses dados, queremos criar um _\"DataFrame\"_ que estaremos chamando de __cars_data__, que irá conter esses dados do arquivo CSV. Neste _DataFrame_ estaremos gerando os arrays NumPy para calcular os parâmetros do modelo de regressão linear.\n",
    "\n",
    "O banco de dados limpo possui os seguintes dados(exemplo):"
   ]
  },
  {
   "cell_type": "code",
   "execution_count": 28,
   "metadata": {},
   "outputs": [
    {
     "data": {
      "text/html": [
       "<div>\n",
       "<style scoped>\n",
       "    .dataframe tbody tr th:only-of-type {\n",
       "        vertical-align: middle;\n",
       "    }\n",
       "\n",
       "    .dataframe tbody tr th {\n",
       "        vertical-align: top;\n",
       "    }\n",
       "\n",
       "    .dataframe thead th {\n",
       "        text-align: right;\n",
       "    }\n",
       "</style>\n",
       "<table border=\"1\" class=\"dataframe\">\n",
       "  <thead>\n",
       "    <tr style=\"text-align: right;\">\n",
       "      <th></th>\n",
       "      <th>price</th>\n",
       "      <th>year</th>\n",
       "      <th>condition</th>\n",
       "      <th>cylinders</th>\n",
       "      <th>fuel</th>\n",
       "      <th>odometer</th>\n",
       "      <th>transmission</th>\n",
       "      <th>size</th>\n",
       "      <th>type</th>\n",
       "    </tr>\n",
       "  </thead>\n",
       "  <tbody>\n",
       "    <tr>\n",
       "      <th>0</th>\n",
       "      <td>10400</td>\n",
       "      <td>2011</td>\n",
       "      <td>excellent</td>\n",
       "      <td>4 cylinders</td>\n",
       "      <td>gas</td>\n",
       "      <td>81300</td>\n",
       "      <td>automatic</td>\n",
       "      <td>mid-size</td>\n",
       "      <td>sedan</td>\n",
       "    </tr>\n",
       "    <tr>\n",
       "      <th>1</th>\n",
       "      <td>6900</td>\n",
       "      <td>2007</td>\n",
       "      <td>excellent</td>\n",
       "      <td>6 cylinders</td>\n",
       "      <td>gas</td>\n",
       "      <td>79000</td>\n",
       "      <td>automatic</td>\n",
       "      <td>full-size</td>\n",
       "      <td>sedan</td>\n",
       "    </tr>\n",
       "    <tr>\n",
       "      <th>2</th>\n",
       "      <td>18900</td>\n",
       "      <td>2018</td>\n",
       "      <td>like new</td>\n",
       "      <td>4 cylinders</td>\n",
       "      <td>gas</td>\n",
       "      <td>5000</td>\n",
       "      <td>automatic</td>\n",
       "      <td>full-size</td>\n",
       "      <td>sedan</td>\n",
       "    </tr>\n",
       "    <tr>\n",
       "      <th>3</th>\n",
       "      <td>6000</td>\n",
       "      <td>2010</td>\n",
       "      <td>excellent</td>\n",
       "      <td>4 cylinders</td>\n",
       "      <td>gas</td>\n",
       "      <td>97600</td>\n",
       "      <td>automatic</td>\n",
       "      <td>mid-size</td>\n",
       "      <td>hatchback</td>\n",
       "    </tr>\n",
       "    <tr>\n",
       "      <th>4</th>\n",
       "      <td>19995</td>\n",
       "      <td>2013</td>\n",
       "      <td>good</td>\n",
       "      <td>6 cylinders</td>\n",
       "      <td>gas</td>\n",
       "      <td>95782</td>\n",
       "      <td>automatic</td>\n",
       "      <td>mid-size</td>\n",
       "      <td>sedan</td>\n",
       "    </tr>\n",
       "  </tbody>\n",
       "</table>\n",
       "</div>"
      ],
      "text/plain": [
       "   price  year  condition    cylinders fuel  odometer transmission       size  \\\n",
       "0  10400  2011  excellent  4 cylinders  gas     81300    automatic   mid-size   \n",
       "1   6900  2007  excellent  6 cylinders  gas     79000    automatic  full-size   \n",
       "2  18900  2018   like new  4 cylinders  gas      5000    automatic  full-size   \n",
       "3   6000  2010  excellent  4 cylinders  gas     97600    automatic   mid-size   \n",
       "4  19995  2013       good  6 cylinders  gas     95782    automatic   mid-size   \n",
       "\n",
       "        type  \n",
       "0      sedan  \n",
       "1      sedan  \n",
       "2      sedan  \n",
       "3  hatchback  \n",
       "4      sedan  "
      ]
     },
     "execution_count": 28,
     "metadata": {},
     "output_type": "execute_result"
    }
   ],
   "source": [
    "cars_data.head()"
   ]
  },
  {
   "attachments": {},
   "cell_type": "markdown",
   "metadata": {},
   "source": [
    "Temos essas 9 colunas que se referem à:\n",
    "\n",
    "- __Price__: O preço do carro. É o dado que desejamos obter com o modelo.\n",
    "- __Year__: Ano do carro.\n",
    "- __Condition__: Variável categórica que indica a condição do carro. Pode ter os valores _good_, _fair_, _excellent_, _like new_, _salvage_, ou _new_.\n",
    "- __Cylinders__: Variável categórica que indica o número de cilindros do motor. Pode ter os valores _4 cylinders_ ou _6 cylinders_.\n",
    "- __Fuel__: Variável categórica que indica o combustível do carro. Pode ter os valores _gas_ ou _diesel_.\n",
    "- __Odometer__: Valor registrado no odômetro, em milhas.\n",
    "- __Transmission__: Variável categórica que indica o tipo de transmissão. Pode ter os valores _automatic_ ou _manual_.\n",
    "- __Size__: Variável categórica que indica o tamanho do carro. Pode ter os valores _compact_, _mid-size_, _sub-compact_ ou _full-size_.\n",
    "- __Type__:\tVariável categórica que indica o tipo do carro. Pode ter os valores _sedan_, _coupe_, _wagon_, ou _hatchback_.\n",
    "\n",
    "\n",
    "Para usar os dados categóricos de forma numérica iremos estar utilizando variáveis _dummy_.\n",
    "\n",
    "E por fim, para obter o vetor \"wo\" vamos seguir os seguintes passos.\n",
    "\n",
    "1. Selecionar o conjunto de variáveis originais que vocễ vai utilizar no modelo.\n",
    "2. Substituir cada variável categórica de sua seleção por um conjunto de variáveis dummy, conforme descrito anteriormente.\n",
    "3. Transformar as variáveis originais de sua seleção e / ou incluir combinações, caso julgue necessário;\n",
    "4. A partir de sua seleção de dados, obter a matriz X e o vetor d, que podem ser representados como arrays do NumPy.\n",
    "5. Usando a matriz X e o vetor d, calcular o vetor wo e o erro quadrático médio conforme mostrado na aula."
   ]
  },
  {
   "attachments": {},
   "cell_type": "markdown",
   "metadata": {},
   "source": [
    "# Nossa solução\n",
    "\n",
    "1. Função de regressão linear"
   ]
  },
  {
   "cell_type": "code",
   "execution_count": 29,
   "metadata": {},
   "outputs": [],
   "source": [
    "def RL_reta(data):\n",
    "    \"\"\"\n",
    "    Função que implementa a regressão linear multipla para prever o preço de carros.\n",
    "\n",
    "    dados é um dataframe com as colunas:\n",
    "    - price: O preço do carro.\n",
    "    - year: O ano do carro.\n",
    "    - condition: Variável categórica que indica a condição do carro.\n",
    "    - cylinders: Variável categórica que indica o número de cilindros do motor.\n",
    "    - fuel: Variável categórica que indica o combustível do carro.\n",
    "    - odometer: Valor registrado no odômetro, em milhas.\n",
    "    - transmission: Variável categórica que indica o tipo de transmissão.\n",
    "    - size: Variável categórica que indica o tamanho do carro.\n",
    "    - type: Variável categórica que indica o tipo do carro.\n",
    "\n",
    "    \"\"\"\n",
    "\n",
    "    # Extrai as colunas relevantes dos dados de entrada\n",
    "    x = data['year'].values.reshape(-1, 1)\n",
    "    d = data['price'].values.reshape(-1, 1)\n",
    "\n",
    "    # Cria as variáveis dummy para as variáveis categóricas\n",
    "    condition_dummy = pd.get_dummies(data['condition'])\n",
    "    cylinders_dummy = pd.get_dummies(data['cylinders'])\n",
    "    fuel_dummy = pd.get_dummies(data['fuel'])\n",
    "    odometer_dummy = pd.get_dummies(data['odometer'])\n",
    "    transmission_dummy = pd.get_dummies(data['transmission'])\n",
    "    size_dummy = pd.get_dummies(data['size'])\n",
    "    type_dummy = pd.get_dummies(data['type'])\n",
    "\n",
    "    # Concatena as variáveis dummy com os dados de entrada originais\n",
    "    x = np.hstack([x, condition_dummy, cylinders_dummy, fuel_dummy, odometer_dummy, transmission_dummy, size_dummy, type_dummy])\n",
    "\n",
    "    # N representa o número de dados para o cálculo da RL\n",
    "    N = d.shape[0]\n",
    "\n",
    "    # X é a matriz dos dados\n",
    "    X = np.hstack([np.ones((N, 1)), x])\n",
    "\n",
    "    # R é o produto das matrizes X.T e X\n",
    "    R = X.T @ X\n",
    "\n",
    "    # o vetor p é dado pelo produto entre a matriz X.T e o vetor d\n",
    "    p = X.T @ d\n",
    "\n",
    "    # Calcule a solução wo e o erro e\n",
    "    wo = np.linalg.solve(R, p)\n",
    "    e = d - X @ wo\n",
    "\n",
    "    return wo, e"
   ]
  },
  {
   "cell_type": "code",
   "execution_count": 37,
   "metadata": {},
   "outputs": [
    {
     "name": "stdout",
     "output_type": "stream",
     "text": [
      "[[ 2.53953133e+03]\n",
      " [-1.61896431e+03]\n",
      " [-1.85653000e+03]\n",
      " ...\n",
      " [-2.13724780e+03]\n",
      " [ 2.21189111e-09]\n",
      " [-3.74706274e+03]]\n"
     ]
    }
   ],
   "source": [
    "wo, e = RL_reta(cars_data)\n",
    "\n",
    "print(e)"
   ]
  },
  {
   "cell_type": "code",
   "execution_count": 57,
   "metadata": {},
   "outputs": [
    {
     "data": {
      "text/html": [
       "<div>\n",
       "<style scoped>\n",
       "    .dataframe tbody tr th:only-of-type {\n",
       "        vertical-align: middle;\n",
       "    }\n",
       "\n",
       "    .dataframe tbody tr th {\n",
       "        vertical-align: top;\n",
       "    }\n",
       "\n",
       "    .dataframe thead th {\n",
       "        text-align: right;\n",
       "    }\n",
       "</style>\n",
       "<table border=\"1\" class=\"dataframe\">\n",
       "  <thead>\n",
       "    <tr style=\"text-align: right;\">\n",
       "      <th></th>\n",
       "      <th>price</th>\n",
       "      <th>year</th>\n",
       "      <th>condition</th>\n",
       "      <th>cylinders</th>\n",
       "      <th>fuel</th>\n",
       "      <th>odometer</th>\n",
       "      <th>transmission</th>\n",
       "      <th>size</th>\n",
       "      <th>type</th>\n",
       "    </tr>\n",
       "  </thead>\n",
       "  <tbody>\n",
       "    <tr>\n",
       "      <th>0</th>\n",
       "      <td>10400</td>\n",
       "      <td>2011</td>\n",
       "      <td>excellent</td>\n",
       "      <td>4 cylinders</td>\n",
       "      <td>gas</td>\n",
       "      <td>81300</td>\n",
       "      <td>automatic</td>\n",
       "      <td>mid-size</td>\n",
       "      <td>sedan</td>\n",
       "    </tr>\n",
       "    <tr>\n",
       "      <th>1</th>\n",
       "      <td>6900</td>\n",
       "      <td>2007</td>\n",
       "      <td>excellent</td>\n",
       "      <td>6 cylinders</td>\n",
       "      <td>gas</td>\n",
       "      <td>79000</td>\n",
       "      <td>automatic</td>\n",
       "      <td>full-size</td>\n",
       "      <td>sedan</td>\n",
       "    </tr>\n",
       "    <tr>\n",
       "      <th>2</th>\n",
       "      <td>18900</td>\n",
       "      <td>2018</td>\n",
       "      <td>like new</td>\n",
       "      <td>4 cylinders</td>\n",
       "      <td>gas</td>\n",
       "      <td>5000</td>\n",
       "      <td>automatic</td>\n",
       "      <td>full-size</td>\n",
       "      <td>sedan</td>\n",
       "    </tr>\n",
       "    <tr>\n",
       "      <th>3</th>\n",
       "      <td>6000</td>\n",
       "      <td>2010</td>\n",
       "      <td>excellent</td>\n",
       "      <td>4 cylinders</td>\n",
       "      <td>gas</td>\n",
       "      <td>97600</td>\n",
       "      <td>automatic</td>\n",
       "      <td>mid-size</td>\n",
       "      <td>hatchback</td>\n",
       "    </tr>\n",
       "    <tr>\n",
       "      <th>4</th>\n",
       "      <td>19995</td>\n",
       "      <td>2013</td>\n",
       "      <td>good</td>\n",
       "      <td>6 cylinders</td>\n",
       "      <td>gas</td>\n",
       "      <td>95782</td>\n",
       "      <td>automatic</td>\n",
       "      <td>mid-size</td>\n",
       "      <td>sedan</td>\n",
       "    </tr>\n",
       "  </tbody>\n",
       "</table>\n",
       "</div>"
      ],
      "text/plain": [
       "   price  year  condition    cylinders fuel  odometer transmission       size  \\\n",
       "0  10400  2011  excellent  4 cylinders  gas     81300    automatic   mid-size   \n",
       "1   6900  2007  excellent  6 cylinders  gas     79000    automatic  full-size   \n",
       "2  18900  2018   like new  4 cylinders  gas      5000    automatic  full-size   \n",
       "3   6000  2010  excellent  4 cylinders  gas     97600    automatic   mid-size   \n",
       "4  19995  2013       good  6 cylinders  gas     95782    automatic   mid-size   \n",
       "\n",
       "        type  \n",
       "0      sedan  \n",
       "1      sedan  \n",
       "2      sedan  \n",
       "3  hatchback  \n",
       "4      sedan  "
      ]
     },
     "execution_count": 57,
     "metadata": {},
     "output_type": "execute_result"
    }
   ],
   "source": [
    "cars_data_teste = pd.read_csv(\"vehicles_cleaned_train.csv\")\n",
    "cars_data_teste.head()"
   ]
  },
  {
   "cell_type": "code",
   "execution_count": 64,
   "metadata": {},
   "outputs": [],
   "source": [
    "# criar variáveis dummy para as variáveis categóricas\n",
    "condition_dummy = pd.get_dummies(cars_data_teste['condition'])\n",
    "cylinders_dummy = pd.get_dummies(cars_data_teste['cylinders'])\n",
    "fuel_dummy = pd.get_dummies(cars_data_teste['fuel'])\n",
    "odometer_dummy = pd.get_dummies(cars_data_teste['odometer'])\n",
    "transmission_dummy = pd.get_dummies(cars_data_teste['transmission'])\n",
    "size_dummy = pd.get_dummies(cars_data_teste['size'])\n",
    "type_dummy = pd.get_dummies(cars_data_teste['type'])"
   ]
  },
  {
   "cell_type": "code",
   "execution_count": 65,
   "metadata": {},
   "outputs": [
    {
     "name": "stdout",
     "output_type": "stream",
     "text": [
      "(8338, 1)\n",
      "(8338, 4039)\n",
      "(4043, 1)\n"
     ]
    }
   ],
   "source": [
    "xteste = cars_data_teste['year'].values.reshape(-1, 1)\n",
    "xteste = np.hstack([xteste, condition_dummy, cylinders_dummy, fuel_dummy, odometer_dummy, transmission_dummy, size_dummy, type_dummy])\n",
    "dteste = cars_data_teste['price'].values.reshape(-1, 1)\n",
    "# N representa o número de dados para o cálculo da RL\n",
    "Nteste = dteste.shape[0]\n",
    "\n",
    "# X é a matriz dos dados\n",
    "XTeste = np.hstack([np.ones((Nteste, 1)), xteste])\n",
    "dTeste = cars_data_teste['price'].values.reshape(-1, 1)\n",
    "\n",
    "print(dTeste.shape)\n",
    "print(XTeste.shape)\n",
    "print(wo.shape)"
   ]
  },
  {
   "cell_type": "code",
   "execution_count": 66,
   "metadata": {},
   "outputs": [
    {
     "ename": "ValueError",
     "evalue": "matmul: Input operand 1 has a mismatch in its core dimension 0, with gufunc signature (n?,k),(k,m?)->(n?,m?) (size 4043 is different from 4039)",
     "output_type": "error",
     "traceback": [
      "\u001b[1;31m---------------------------------------------------------------------------\u001b[0m",
      "\u001b[1;31mValueError\u001b[0m                                Traceback (most recent call last)",
      "Cell \u001b[1;32mIn[66], line 6\u001b[0m\n\u001b[0;32m      4\u001b[0m xTeste_i \u001b[39m=\u001b[39m XTeste[i, :]\n\u001b[0;32m      5\u001b[0m \u001b[39m# calcula o valor predito pelo modelo\u001b[39;00m\n\u001b[1;32m----> 6\u001b[0m y_pred_i \u001b[39m=\u001b[39m xTeste_i \u001b[39m@\u001b[39;49m wo\n\u001b[0;32m      7\u001b[0m \u001b[39m# calcula o erro em relação ao valor real\u001b[39;00m\n\u001b[0;32m      8\u001b[0m e_i \u001b[39m=\u001b[39m dTeste[i] \u001b[39m-\u001b[39m y_pred_i\n",
      "\u001b[1;31mValueError\u001b[0m: matmul: Input operand 1 has a mismatch in its core dimension 0, with gufunc signature (n?,k),(k,m?)->(n?,m?) (size 4043 is different from 4039)"
     ]
    }
   ],
   "source": [
    "# para cada linha do conjunto de teste\n",
    "for i in range(len(cars_data_teste)):\n",
    "    # extrai as features da linha i\n",
    "    xTeste_i = XTeste[i, :]\n",
    "    # calcula o valor predito pelo modelo\n",
    "    y_pred_i = xTeste_i @ wo\n",
    "    # calcula o erro em relação ao valor real\n",
    "    e_i = dTeste[i] - y_pred_i\n",
    "    # imprime o valor predito, o valor real e o erro\n",
    "    print(f\"Valor predito: {y_pred_i}, Valor real: {dTeste[i]}, Erro: {e_i}\")"
   ]
  },
  {
   "attachments": {},
   "cell_type": "markdown",
   "metadata": {},
   "source": [
    "2. Nossas variáveis originais:\n",
    "\n",
    "- DEFINIR QUAIS VARIAVEIS VAMOS QUERER USAR\n",
    "\n",
    "3. Substituindo as variáveis categóricas por variáveis dummy:"
   ]
  },
  {
   "attachments": {},
   "cell_type": "markdown",
   "metadata": {},
   "source": [
    "4. Transformar variáveis:\n",
    "\n",
    "- Acho interessante trocar o \"Year\" por \"Idade\" do carro, acho que é mais interessante encontrar a relação entre idade do carro e o preço.\n",
    "- Acho interessante entender a relação entre \"Quilometragem\" pela \"Idade\" (divisão).\n",
    "\n",
    "E para criar elas no DataFrame:"
   ]
  },
  {
   "cell_type": "code",
   "execution_count": null,
   "metadata": {},
   "outputs": [],
   "source": []
  },
  {
   "cell_type": "markdown",
   "metadata": {},
   "source": [
    "4. Obter matriz X e o vetor d"
   ]
  },
  {
   "cell_type": "code",
   "execution_count": null,
   "metadata": {},
   "outputs": [],
   "source": []
  }
 ],
 "metadata": {
  "kernelspec": {
   "display_name": "Python 3",
   "language": "python",
   "name": "python3"
  },
  "language_info": {
   "codemirror_mode": {
    "name": "ipython",
    "version": 3
   },
   "file_extension": ".py",
   "mimetype": "text/x-python",
   "name": "python",
   "nbconvert_exporter": "python",
   "pygments_lexer": "ipython3",
   "version": "3.11.2"
  },
  "orig_nbformat": 4
 },
 "nbformat": 4,
 "nbformat_minor": 2
}
