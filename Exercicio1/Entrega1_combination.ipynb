{
 "cells": [
  {
   "attachments": {},
   "cell_type": "markdown",
   "metadata": {},
   "source": [
    "# PSI3471 - Entrega 01 \n",
    "### Fernando Zolubas Preto - NUSP: 10694192\n",
    "### Vinícius Melo de Souza - NUSP: 10772272\n",
    "# Regressão Linear "
   ]
  },
  {
   "cell_type": "code",
   "execution_count": 8,
   "metadata": {},
   "outputs": [],
   "source": [
    "import pandas as pd\n",
    "import numpy as np\n",
    "import itertools"
   ]
  },
  {
   "attachments": {},
   "cell_type": "markdown",
   "metadata": {},
   "source": [
    "Neste exercício queremos prever o preço de carros do _\"Used Cars Dataset\"_ do site `Craiglist.org`.\n",
    "\n",
    "No caso, os dados já foram limpos e filtrados para facilitar o entendimento e o andamento do exercício, para conseguirmos dar foco na utilização da técnica dos mínimos quadrados. Os dados limpos estão em um arquivo CSV que podemos puxar do site da disciplina. Este arquivo será importado através da biblioteca \"Panda\" do python que foi instalada no computador previamente.\n",
    "\n",
    "Com esses dados, queremos criar um _\"DataFrame\"_ que estaremos chamando de __cars_data__, que irá conter esses dados do arquivo CSV. Neste _DataFrame_ estaremos gerando os arrays NumPy para calcular os parâmetros do modelo de regressão linear.\n",
    "\n",
    "Temos essas 9 colunas que se referem à:\n",
    "\n",
    "- __Price__: O preço do carro. É o dado que desejamos obter com o modelo.\n",
    "- __Year__: Ano do carro.\n",
    "- __Condition__: Variável categórica que indica a condição do carro. Pode ter os valores _good_, _fair_, _excellent_, _like new_, _salvage_, ou _new_.\n",
    "- __Cylinders__: Variável categórica que indica o número de cilindros do motor. Pode ter os valores _4 cylinders_ ou _6 cylinders_.\n",
    "- __Fuel__: Variável categórica que indica o combustível do carro. Pode ter os valores _gas_ ou _diesel_.\n",
    "- __Odometer__: Valor registrado no odômetro, em milhas.\n",
    "- __Transmission__: Variável categórica que indica o tipo de transmissão. Pode ter os valores _automatic_ ou _manual_.\n",
    "- __Size__: Variável categórica que indica o tamanho do carro. Pode ter os valores _compact_, _mid-size_, _sub-compact_ ou _full-size_.\n",
    "- __Type__:\tVariável categórica que indica o tipo do carro. Pode ter os valores _sedan_, _coupe_, _wagon_, ou _hatchback_.\n",
    "\n",
    "\n",
    "Para usar os dados categóricos de forma numérica iremos estar utilizando variáveis _dummy_.\n",
    "\n",
    "E por fim, para obter o vetor \"wo\" vamos seguir os seguintes passos.\n",
    "\n",
    "1. Selecionar o conjunto de variáveis originais que vocễ vai utilizar no modelo.\n",
    "2. Substituir cada variável categórica de sua seleção por um conjunto de variáveis dummy, conforme descrito anteriormente.\n",
    "3. Transformar as variáveis originais de sua seleção e / ou incluir combinações, caso julgue necessário;\n",
    "4. A partir de sua seleção de dados, obter a matriz X e o vetor d, que podem ser representados como arrays do NumPy.\n",
    "5. Usando a matriz X e o vetor d, calcular o vetor wo e o erro quadrático médio conforme mostrado na aula.\n",
    "\n",
    "# Nossa solução\n",
    "\n",
    "1. Função de regressão linear"
   ]
  },
  {
   "cell_type": "code",
   "execution_count": 9,
   "metadata": {},
   "outputs": [],
   "source": [
    "def RL(d, d_teste, combination, combination_teste):\n",
    "\n",
    "    # Calculo dos parametros para uma combinação\n",
    "    # N representa o número de dados para o cálculo da RL\n",
    "    N = d.shape[0]\n",
    "    # X é a matriz dos dados\n",
    "    X = np.hstack([np.ones((N, 1)), combination])\n",
    "    # R é o produto das matrizes X.T e X\n",
    "    R = X.T @ X\n",
    "    # o vetor p é dado pelo produto entre a matriz X.T e o vetor d\n",
    "    p = X.T @ d\n",
    "    # Calcule a solução wo e o erro e\n",
    "    wo = np.linalg.solve(R, p)\n",
    "    e = d - X @ wo\n",
    "\n",
    "    # Calculo da \"previsão\" utilizando o modelo\n",
    "    # N representa o número de dados para o cálculo da RL\n",
    "    N_teste = d_teste.shape[0]\n",
    "    # X é a matriz dos dados\n",
    "    X_teste = np.hstack([np.ones((N_teste, 1)), combination_teste])\n",
    "    # previsoes e erros\n",
    "    previsto = []\n",
    "    erro = []\n",
    "    accuracy = []\n",
    "    # para cada linha do conjunto de teste\n",
    "    for i in range(N):\n",
    "        # extrai as features da linha i\n",
    "        xTeste_i = X_teste[i, :]\n",
    "        # calcula o valor predito pelo modelo\n",
    "        y_pred_i = xTeste_i @ wo\n",
    "        # calcula o erro em relação ao valor real\n",
    "        e_i = d[i] - y_pred_i\n",
    "        # salva nos vetores\n",
    "        previsto.append(y_pred_i)\n",
    "        erro.append(e_i)\n",
    "        # imprime o valor predito, o valor real e o erro\n",
    "        # print(f\"Valor predito: {y_pred_i}, Valor real: {dTeste[i]}, Erro: {e_i}\")\n",
    "    # erro da combinacao\n",
    "    mse = np.sqrt(np.mean(np.array(erro)**2))\n",
    "    return mse"
   ]
  },
  {
   "cell_type": "code",
   "execution_count": 10,
   "metadata": {},
   "outputs": [
    {
     "name": "stdout",
     "output_type": "stream",
     "text": [
      "2.9554515522253144\n",
      "2.9554515522253144\n"
     ]
    }
   ],
   "source": [
    "erro = [1,2,3,3,3,3,3,3,3,3,3,3,3,3,3,3,3,3,3,3,3,3,3,3,3,3,3,3,3,3,3,3,3,3,3,3,3,3,3,3,3,3,3,3,3,3,3,3,3]\n",
    "\n",
    "mse1 = np.sqrt(np.mean(np.array(erro)**2))\n",
    "print(mse1)\n",
    "\n",
    "erroVetor = np.array(erro)\n",
    "mse2 = np.sqrt((erroVetor.T @ erroVetor)/len(erro))\n",
    "print(mse2)"
   ]
  },
  {
   "attachments": {},
   "cell_type": "markdown",
   "metadata": {},
   "source": [
    "Com a função feita, podemos começar a trabalhar em cima dos DataFrames. Precisamos:\n",
    "\n",
    "1. Importar os dataframes de treino e de teste (arquivos csv)\n",
    "2. Substituir cada variável categórica de sua seleção por um conjunto de variáveis dummy, conforme descrito anteriormente.\n",
    "3. Transformar as variáveis originais de sua seleção e / ou incluir combinações, caso julgue necessário;\n",
    "4. A partir de sua seleção de dados, obter a matriz X e o vetor d, que podem ser representados como arrays do NumPy."
   ]
  },
  {
   "cell_type": "code",
   "execution_count": 11,
   "metadata": {},
   "outputs": [],
   "source": [
    "# CSV's de treino e de teste\n",
    "cars_data = pd.read_csv(\"vehicles_cleaned_train.csv\")\n",
    "cars_data_teste = pd.read_csv(\"vehicles_cleaned_test.csv\")\n",
    "\n",
    "# Pegando variaveis categóricas e transformando em 'Dummy' para o DataFrame de treino e de teste\n",
    "categorical_columns = ['condition', 'cylinders', 'fuel', 'transmission', 'size', 'type']\n",
    "\n",
    "# Treino\n",
    "X_train = pd.get_dummies(cars_data[categorical_columns])\n",
    "X_train['fabrication'] = cars_data['year']\n",
    "X_train['odometer'] = cars_data['odometer']\n",
    "\n",
    "d_train = cars_data['price']\n",
    "\n",
    "# Teste\n",
    "X_test = pd.get_dummies(cars_data_teste[categorical_columns])\n",
    "X_test['fabrication'] = cars_data_teste['year']\n",
    "X_test['odometer'] = cars_data_teste['odometer']\n",
    "\n",
    "d_test = cars_data_teste['price']\n",
    "\n",
    "\n",
    "# Criando nossas variáveis para o DataFrame de treino e de teste\n",
    "current_year = 2023\n",
    "X_train['age'] = current_year - X_train['fabrication'] # Variável de 'idade' do carro\n",
    "X_train['mileage_per_year'] = X_train['odometer'] / X_train['age'] # Variável de 'milhagem/idade' do carro\n",
    "\n",
    "X_test['age'] = current_year - X_test['fabrication'] # Variável de 'idade' do carro\n",
    "X_test['mileage_per_year'] = X_test['odometer'] / X_test['age'] # Variável de 'milhagem/idade' do carro"
   ]
  },
  {
   "attachments": {},
   "cell_type": "markdown",
   "metadata": {},
   "source": [
    "Pegando apenas N-1 variáveis Dummy. (N = Quantidade de categorias)\n",
    "\n",
    "A função \"pd.get_dummies\" retorna todas as possíveis variáveis dummy. Contudo, precisamos de apenas N-1 variáveis dummy para cada variável categórica, já que consequentemente uma das categorias pode ser inferida como combinação linear das outras e, portanto, caso incluida no código, pode aumentar o tempo de execução de forma desnecessária:"
   ]
  },
  {
   "cell_type": "code",
   "execution_count": 12,
   "metadata": {},
   "outputs": [],
   "source": [
    "# Reduzindo a quantidade de variaveis dummy em 1 conforme enunciado.\n",
    "# Configurando o \"indice\" das colunas do dataframe\n",
    "condition = [0,1,2,3,4] \n",
    "cylinders = [6]\n",
    "fuel = [8]\n",
    "transmission = [10]\n",
    "size = [12,13,14]\n",
    "carType = [16,17,18]\n",
    "fabrication = [20]\n",
    "odometer = [21]\n",
    "age = [22] #Criamos\n",
    "mileage_per_year = [23] #Criamos\n",
    "\n",
    "# Vetor com todas as colunas possiveis no DataFrame organizadas por tipo\n",
    "avaliabelVariablesIndexes = [condition,cylinders,fuel,transmission,size,carType,fabrication,odometer,age,mileage_per_year]"
   ]
  },
  {
   "attachments": {},
   "cell_type": "markdown",
   "metadata": {},
   "source": [
    "Para encontrar-mos o melhor modelo de regressão linear possível, queremos tentar todas as combinações possíveis entre as variáveis que possuimos, avaliar cada modelo pelo erro quadrático e então em tese encontraremos o melhor modelo possível com nossas variáveis escolhidas.\n",
    "\n",
    "Para isso vamos primeiro criar todas as permutações possíveis:"
   ]
  },
  {
   "cell_type": "code",
   "execution_count": 13,
   "metadata": {},
   "outputs": [],
   "source": [
    "# Criando todas as permutações possíveis entre as colunas do DataFrame\n",
    "combinations = [] # É uma lista cujo i-ésimo elemento guarda os indices das colunas referentes a uma possível permutação\n",
    "for i in range(2, len(avaliabelVariablesIndexes) + 1):\n",
    "    for subset in itertools.combinations(avaliabelVariablesIndexes, i):\n",
    "        combinations.append(list(itertools.chain.from_iterable(subset)))"
   ]
  },
  {
   "attachments": {},
   "cell_type": "markdown",
   "metadata": {},
   "source": [
    "Criado o vetor de combinações, podemos agora fazer a regressão linear para cada uma delas e encontrar o menor erro entre todos os modelos"
   ]
  },
  {
   "cell_type": "code",
   "execution_count": 14,
   "metadata": {},
   "outputs": [
    {
     "name": "stdout",
     "output_type": "stream",
     "text": [
      "Erro: 6502.034286225783 Feature Combo: [0, 1, 2, 3, 4, 6]\n",
      "Erro: 6494.847296015529 Feature Combo: [0, 1, 2, 3, 4, 12, 13, 14]\n",
      "Erro: 6473.072876652844 Feature Combo: [0, 1, 2, 3, 4, 16, 17, 18]\n",
      "Erro: 5674.534736076396 Feature Combo: [0, 1, 2, 3, 4, 20]\n",
      "Erro: 5561.5156425879295 Feature Combo: [6, 20]\n",
      "Erro: 5497.300199091951 Feature Combo: [0, 1, 2, 3, 4, 6, 20]\n",
      "Erro: 5482.640855779111 Feature Combo: [6, 16, 17, 18, 20]\n",
      "Erro: 5411.998593478732 Feature Combo: [6, 20, 21]\n",
      "Erro: 5352.501867697852 Feature Combo: [0, 1, 2, 3, 4, 6, 20, 21]\n",
      "Erro: 5340.326535734462 Feature Combo: [6, 16, 17, 18, 20, 21]\n",
      "Erro: 5324.970943703699 Feature Combo: [0, 1, 2, 3, 4, 6, 10, 20, 21]\n",
      "Erro: 5282.573249490226 Feature Combo: [0, 1, 2, 3, 4, 6, 16, 17, 18, 20, 21]\n",
      "Erro: 5282.573249490223 Feature Combo: [0, 1, 2, 3, 4, 6, 16, 17, 18, 21, 22]\n",
      "Erro: 5281.678581746517 Feature Combo: [0, 1, 2, 3, 4, 6, 8, 16, 17, 18, 20, 21]\n",
      "Erro: 5281.678581746516 Feature Combo: [0, 1, 2, 3, 4, 6, 8, 16, 17, 18, 21, 22]\n",
      "Erro: 5265.804484659726 Feature Combo: [0, 1, 2, 3, 4, 6, 10, 16, 17, 18, 20, 21]\n",
      "Erro: 5264.854546708338 Feature Combo: [0, 1, 2, 3, 4, 6, 8, 10, 16, 17, 18, 20, 21]\n",
      "Erro: 5246.757472635426 Feature Combo: [0, 1, 2, 3, 4, 6, 10, 12, 13, 14, 16, 17, 18, 20, 21]\n",
      "Erro: 5246.757472635422 Feature Combo: [0, 1, 2, 3, 4, 6, 10, 12, 13, 14, 16, 17, 18, 21, 22]\n",
      "Erro: 5245.880471347572 Feature Combo: [0, 1, 2, 3, 4, 6, 8, 10, 12, 13, 14, 16, 17, 18, 20, 21]\n",
      "Erro: 5245.880471347568 Feature Combo: [0, 1, 2, 3, 4, 6, 8, 10, 12, 13, 14, 16, 17, 18, 21, 22]\n",
      "Erro: 5242.679688078312 Feature Combo: [0, 1, 2, 3, 4, 6, 10, 12, 13, 14, 16, 17, 18, 20, 21, 23]\n",
      "Erro: 5242.67968807831 Feature Combo: [0, 1, 2, 3, 4, 6, 10, 12, 13, 14, 16, 17, 18, 21, 22, 23]\n",
      "Erro: 5241.964876943618 Feature Combo: [0, 1, 2, 3, 4, 6, 8, 10, 12, 13, 14, 16, 17, 18, 20, 21, 23]\n",
      "Erro: 5241.964876943616 Feature Combo: [0, 1, 2, 3, 4, 6, 8, 10, 12, 13, 14, 16, 17, 18, 21, 22, 23]\n",
      "Best feature combination:  [0, 1, 2, 3, 4, 6, 8, 10, 12, 13, 14, 16, 17, 18, 21, 22, 23]\n",
      "Best feature number: 1005\n",
      "Minimum MSE:  5241.964876943616\n"
     ]
    }
   ],
   "source": [
    "# Chamando a regressão linear para cada uma das combinações possíveis\n",
    "# Salvamos apenas quando uma regressão possui uma resposta 'melhor' que uma anterior\n",
    "min_mse = np.inf\n",
    "for i in range(len(combinations)-1):\n",
    "    try:\n",
    "        mse = RL(d_train, d_test, X_train.iloc[:, combinations[i]], X_test.iloc[:, combinations[i]])\n",
    "        if mse < min_mse:\n",
    "            print(\"Erro:\", mse, \"Feature Combo:\", combinations[i])\n",
    "            min_mse = mse\n",
    "            combo_number = i\n",
    "            best_features = list(combinations[i])\n",
    "    except np.linalg.LinAlgError:\n",
    "        continue\n",
    "\n",
    "# Print do melhor resultado\n",
    "print(\"Best feature combination: \", best_features)\n",
    "print(\"Best feature number:\", combo_number)\n",
    "print(\"Minimum MSE: \", min_mse)"
   ]
  }
 ],
 "metadata": {
  "kernelspec": {
   "display_name": "Python 3",
   "language": "python",
   "name": "python3"
  },
  "language_info": {
   "codemirror_mode": {
    "name": "ipython",
    "version": 3
   },
   "file_extension": ".py",
   "mimetype": "text/x-python",
   "name": "python",
   "nbconvert_exporter": "python",
   "pygments_lexer": "ipython3",
   "version": "3.11.2"
  },
  "orig_nbformat": 4,
  "vscode": {
   "interpreter": {
    "hash": "794011319cd091dc0c66d4aa7874d3fb42f19e47c0e5a47abafd0a437ebb9c26"
   }
  }
 },
 "nbformat": 4,
 "nbformat_minor": 2
}
