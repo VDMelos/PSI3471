{
  "cells": [
    {
      "cell_type": "markdown",
      "metadata": {
        "id": "view-in-github",
        "colab_type": "text"
      },
      "source": [
        "<a href=\"https://colab.research.google.com/github/VDMelos/PSI3471/blob/main/ex_aula_3.ipynb\" target=\"_parent\"><img src=\"https://colab.research.google.com/assets/colab-badge.svg\" alt=\"Open In Colab\"/></a>"
      ]
    },
    {
      "cell_type": "markdown",
      "metadata": {
        "id": "gXems7TEBx-S"
      },
      "source": [
        "Para abrir o notebook no Google Colab, altere o domínio `github.com` para `githubtocolab.com`"
      ]
    },
    {
      "cell_type": "markdown",
      "metadata": {
        "id": "YONAgLYZB24h"
      },
      "source": [
        "# PSI3471 - Aula de Exercícios 03"
      ]
    },
    {
      "cell_type": "markdown",
      "metadata": {
        "id": "zPRGwQ33DzfZ"
      },
      "source": [
        "# Neurônio de Rosenblatt no modo mini-batch"
      ]
    },
    {
      "cell_type": "markdown",
      "source": [],
      "metadata": {
        "id": "WIUSVR33EZfK"
      }
    },
    {
      "cell_type": "markdown",
      "metadata": {
        "id": "zjPLjLd6DzfZ"
      },
      "source": [
        "Neste exercício vamos utilizar o neurônio de Rosenblatt para implementar funções lógicas AND, OR e XOR."
      ]
    },
    {
      "cell_type": "markdown",
      "metadata": {
        "id": "kZsXgAv7CYKi"
      },
      "source": [
        "Iniciamos importando as bibliotecas necessárias para implementar o neurônio de Rosenblatt."
      ]
    },
    {
      "cell_type": "code",
      "execution_count": 1,
      "metadata": {
        "id": "bbXUGttSUecW"
      },
      "outputs": [],
      "source": [
        "import numpy as np\n",
        "import matplotlib.pyplot as plt"
      ]
    },
    {
      "cell_type": "markdown",
      "metadata": {
        "id": "j-YtmnIlCmV6"
      },
      "source": [
        "Vamos gerar os dados de treinamento do problema começando pelo AND."
      ]
    },
    {
      "cell_type": "markdown",
      "metadata": {
        "id": "7oXZxOupDzfb"
      },
      "source": [
        "<div class=\"alert alert-block alert-success\">\n",
        "Complete o código a seguir:\n",
        "</div>"
      ]
    },
    {
      "cell_type": "code",
      "execution_count": 12,
      "metadata": {
        "id": "HwDABZUlUecY"
      },
      "outputs": [],
      "source": [
        "Nt = 100  # número de pontos de treinamento\n",
        "\n",
        "############# \n",
        "# x deve ser uma matriz com Nt linhas e 2 colunas com valores 0 ou 1 aleatórios,\n",
        "# que pode ser gerada usando as funções np.round e np.random.uniform.\n",
        "# d deve ser um vetor coluna com Nt linhas contendo o resultado da função lógica\n",
        "# AND aplicada ao vetor x. Para isso use a função np.logical_and.\n",
        "# Note que a função np.logical_and devolve um vetor com elementos do tipo boolean.\n",
        "# Para transformar os elementos para o tipo inteiro, basta multiplicá-lo por 1\n",
        "# ou usar o método .astype(int)\n",
        "\n",
        "x = np.random.uniform(0, 1, [Nt, 2])\n",
        "x = np.round(x)\n",
        "x = x.astype(int)\n",
        "\n",
        "d = 1*(np.logical_and(x[:,0],x[:,1])).reshape(-1,1)\n",
        "#############"
      ]
    },
    {
      "cell_type": "markdown",
      "metadata": {
        "id": "DdQnGc9XJJq7"
      },
      "source": [
        "A função a seguir implementa o neurônio de Rosenblatt no modo mini-batch. Modifique o programa do algoritmo LMS no modo mini-batch do Exercício 2 inserindo a função de ativação.\n",
        "Para obter 0 ou 1 na saída, deve-se usar a função degrau em vez da função sinal. Para isso, use a função np.heaviside.\n",
        "Uma outra modificação que deve ser considerada é a inicialização dos pesos e bias, que agora devem ser inicializados com valores aleatórios uniformemente distribuídos no intervalo [-dw, dw]. "
      ]
    },
    {
      "cell_type": "markdown",
      "metadata": {
        "id": "wbN1OJVbDzfc"
      },
      "source": [
        "<div class=\"alert alert-block alert-success\">\n",
        "Complete o código a seguir:\n",
        "</div>"
      ]
    },
    {
      "cell_type": "code",
      "execution_count": 47,
      "metadata": {
        "id": "SsWVWo60aXxs"
      },
      "outputs": [],
      "source": [
        "def Rosenblatt_minibatch(x, d, eta, Nt, Ne, Nb, dw):\n",
        "    \"\"\"\n",
        "    W = Rosenblatt_minibatch(x, d, eta, Nt, Ne, Nb)\n",
        "    x: sinal de entrada\n",
        "    d: sinal desejado\n",
        "    eta: passo de adaptação\n",
        "    Nt: número de dados de treinamento\n",
        "    Ne: número de épocas\n",
        "    Nb: tamanho do mini-batch\n",
        "    dw: inicialização dos pesos e bias com distribuição uniforme no invervalo [-dw, dw]\n",
        "    \"\"\"\n",
        "    \"\"\"\n",
        "    Novamente, vamos juntar o sinal de entrada e o sinal desejado em um único vetor, \n",
        "    uma vez que a cada época vamos embaralhar os dados.\n",
        "    Ao fazer isso, já inserimos uma coluna de 1's para levar em conta o bias.\n",
        "    \"\"\"\n",
        "    #############\n",
        "    M = x.shape[1]\n",
        "    Xd = np.hstack((np.ones((Nt, 1)), x, d))\n",
        "    W = np.random.uniform(-dw, dw,[Ne + 1, M + 1])\n",
        "    # No modo mini-batch, o passo de adaptação é dividido por Nb\n",
        "    eta = eta / Nb\n",
        "    for k in range(Nb):\n",
        "        np.random.shuffle(Xd)\n",
        "        xb = Xd[:, 0 : M + 1]        \n",
        "        db = Xd[:, [M + 1]]\n",
        "        #############\n",
        "        eb = db - xb @ W[[k],:].T\n",
        "        W[[k + 1], :] = np.heaviside(W[[k],:] + eta * (xb.T @ eb).T, 0.5)\n",
        "    #############\n",
        "\n",
        "    return W"
      ]
    },
    {
      "cell_type": "code",
      "execution_count": 48,
      "metadata": {
        "id": "OQfbxggUUeca",
        "outputId": "3cca6f1f-38d8-437f-f428-d091972b31f0",
        "colab": {
          "base_uri": "https://localhost:8080/"
        }
      },
      "outputs": [
        {
          "output_type": "stream",
          "name": "stdout",
          "text": [
            "[-1.76422655 -0.46734585 -1.43304164]\n"
          ]
        }
      ],
      "source": [
        "eta = 0.5  # passo de adaptação do algoritmo de Rosenblatt\n",
        "Nb = 20\n",
        "Ne = 100\n",
        "dw = 2\n",
        "W = Rosenblatt_minibatch(x, d, eta, Nt, Ne, Nb, dw)\n",
        "\n",
        "#############  Complete o código a seguir\n",
        "# Wfinal deve ser os valores de pesos e bias da última iteração\n",
        "Wfinal = W[Nt]\n",
        "#############\n",
        "\n",
        "print(Wfinal)"
      ]
    },
    {
      "cell_type": "markdown",
      "metadata": {
        "id": "2-LsVdceDzfc"
      },
      "source": [
        "<div class=\"alert alert-block alert-success\">\n",
        "Complete o código a seguir:\n",
        "</div>"
      ]
    },
    {
      "cell_type": "code",
      "execution_count": null,
      "metadata": {
        "id": "ng4gDTrILTVT"
      },
      "outputs": [],
      "source": [
        "# Gere um gráfico para mostrar os pesos e bias ao longo das iterações"
      ]
    },
    {
      "cell_type": "markdown",
      "metadata": {
        "id": "uASv_CQIDzfd"
      },
      "source": [
        "<div class=\"alert alert-block alert-success\">\n",
        "Complete o código a seguir:\n",
        "</div>"
      ]
    },
    {
      "cell_type": "code",
      "execution_count": null,
      "metadata": {
        "id": "RNKpIjMzUecb"
      },
      "outputs": [],
      "source": [
        "# Gere os dados de teste, calcule a taxa de erro e gere a reta de separação das\n",
        "# regiões, mostrando em um mesmo gráfico a reta e os dados de teste classificados.\n",
        "# Comente o resultado, explicando se é possível utilizar o neurônio de Rosenblatt\n",
        "# para implementar esta função lógica.\n",
        "\n",
        "\n"
      ]
    },
    {
      "cell_type": "markdown",
      "metadata": {
        "id": "xwdEhD8bDzfd"
      },
      "source": [
        "<div class=\"alert alert-block alert-success\">\n",
        "Complete o código a seguir:\n",
        "</div>"
      ]
    },
    {
      "cell_type": "code",
      "execution_count": null,
      "metadata": {
        "id": "REPW2bVmL_Gr"
      },
      "outputs": [],
      "source": [
        "# Repita o exercício para o OR e o XOR."
      ]
    }
  ],
  "metadata": {
    "colab": {
      "provenance": [],
      "include_colab_link": true
    },
    "kernelspec": {
      "display_name": "Python 3 (ipykernel)",
      "language": "python",
      "name": "python3"
    },
    "language_info": {
      "codemirror_mode": {
        "name": "ipython",
        "version": 3
      },
      "file_extension": ".py",
      "mimetype": "text/x-python",
      "name": "python",
      "nbconvert_exporter": "python",
      "pygments_lexer": "ipython3",
      "version": "3.10.8"
    }
  },
  "nbformat": 4,
  "nbformat_minor": 0
}