{
 "cells": [
  {
   "cell_type": "markdown",
   "metadata": {},
   "source": [
    "# PSI3471 - Exercício 2\n",
    "### Fernando Zolubas Preto - NUSP: 10694192\n",
    "### Vinícius Melo de Souza - NUSP: 10772272\n",
    "# Perceptron de Rosenblatt\n",
    "\n",
    "Um classificador binário usando o perceptron de Rosenblatt para classificar imagens de círculos ou quadrados.\n",
    "\n",
    "Nosso objetivo neste exercício é replicar o experimento de classificação de caracteres, porém para circulos e quadrados, através do perceptron de rosenblatt."
   ]
  },
  {
   "cell_type": "code",
   "execution_count": 12,
   "metadata": {},
   "outputs": [],
   "source": [
    "import pandas as pd\n",
    "import matplotlib.pyplot as plt\n",
    "import numpy as np"
   ]
  },
  {
   "cell_type": "markdown",
   "metadata": {},
   "source": [
    "O arquivo csv \"circles_and_squares\" é um arquivo com 1000 linhas e 401 colunas, cada linha se refere à um exemplo no banco de dados(um circulo ou um quadrado). \n",
    "\n",
    "As primeiras 400 colunas podem ser transformadas em uma matriz 20x20 que representam a digitalização da imagem do circulo ou do quadrado.\n",
    "\n",
    "A ultima coluna é um rótulo, no caso indicando -1 ou 1 se for um circulo, ou quadrado, respectivamente."
   ]
  },
  {
   "cell_type": "code",
   "execution_count": 13,
   "metadata": {},
   "outputs": [],
   "source": [
    "data_df = pd.read_csv(\"circles_and_squares.csv\")"
   ]
  },
  {
   "cell_type": "markdown",
   "metadata": {},
   "source": [
    "Podemos ver com o head do data frame que criamos esta propriedade dos dados:"
   ]
  },
  {
   "cell_type": "code",
   "execution_count": 14,
   "metadata": {},
   "outputs": [
    {
     "data": {
      "text/html": [
       "<div>\n",
       "<style scoped>\n",
       "    .dataframe tbody tr th:only-of-type {\n",
       "        vertical-align: middle;\n",
       "    }\n",
       "\n",
       "    .dataframe tbody tr th {\n",
       "        vertical-align: top;\n",
       "    }\n",
       "\n",
       "    .dataframe thead th {\n",
       "        text-align: right;\n",
       "    }\n",
       "</style>\n",
       "<table border=\"1\" class=\"dataframe\">\n",
       "  <thead>\n",
       "    <tr style=\"text-align: right;\">\n",
       "      <th></th>\n",
       "      <th>0</th>\n",
       "      <th>1</th>\n",
       "      <th>2</th>\n",
       "      <th>3</th>\n",
       "      <th>4</th>\n",
       "      <th>5</th>\n",
       "      <th>6</th>\n",
       "      <th>7</th>\n",
       "      <th>8</th>\n",
       "      <th>9</th>\n",
       "      <th>...</th>\n",
       "      <th>391</th>\n",
       "      <th>392</th>\n",
       "      <th>393</th>\n",
       "      <th>394</th>\n",
       "      <th>395</th>\n",
       "      <th>396</th>\n",
       "      <th>397</th>\n",
       "      <th>398</th>\n",
       "      <th>399</th>\n",
       "      <th>400</th>\n",
       "    </tr>\n",
       "  </thead>\n",
       "  <tbody>\n",
       "    <tr>\n",
       "      <th>0</th>\n",
       "      <td>0.0</td>\n",
       "      <td>0.0</td>\n",
       "      <td>0.0</td>\n",
       "      <td>0.0</td>\n",
       "      <td>0.0</td>\n",
       "      <td>0.0</td>\n",
       "      <td>1.0</td>\n",
       "      <td>0.0</td>\n",
       "      <td>0.0</td>\n",
       "      <td>0.0</td>\n",
       "      <td>...</td>\n",
       "      <td>0.0</td>\n",
       "      <td>0.0</td>\n",
       "      <td>0.0</td>\n",
       "      <td>0.0</td>\n",
       "      <td>0.0</td>\n",
       "      <td>0.0</td>\n",
       "      <td>0.0</td>\n",
       "      <td>0.0</td>\n",
       "      <td>0.0</td>\n",
       "      <td>-1.0</td>\n",
       "    </tr>\n",
       "    <tr>\n",
       "      <th>1</th>\n",
       "      <td>0.0</td>\n",
       "      <td>0.0</td>\n",
       "      <td>0.0</td>\n",
       "      <td>0.0</td>\n",
       "      <td>0.0</td>\n",
       "      <td>0.0</td>\n",
       "      <td>0.0</td>\n",
       "      <td>0.0</td>\n",
       "      <td>0.0</td>\n",
       "      <td>0.0</td>\n",
       "      <td>...</td>\n",
       "      <td>0.0</td>\n",
       "      <td>0.0</td>\n",
       "      <td>0.0</td>\n",
       "      <td>0.0</td>\n",
       "      <td>0.0</td>\n",
       "      <td>0.0</td>\n",
       "      <td>0.0</td>\n",
       "      <td>0.0</td>\n",
       "      <td>0.0</td>\n",
       "      <td>-1.0</td>\n",
       "    </tr>\n",
       "    <tr>\n",
       "      <th>2</th>\n",
       "      <td>0.0</td>\n",
       "      <td>0.0</td>\n",
       "      <td>0.0</td>\n",
       "      <td>0.0</td>\n",
       "      <td>0.0</td>\n",
       "      <td>0.0</td>\n",
       "      <td>0.0</td>\n",
       "      <td>0.0</td>\n",
       "      <td>0.0</td>\n",
       "      <td>0.0</td>\n",
       "      <td>...</td>\n",
       "      <td>0.0</td>\n",
       "      <td>0.0</td>\n",
       "      <td>0.0</td>\n",
       "      <td>0.0</td>\n",
       "      <td>0.0</td>\n",
       "      <td>0.0</td>\n",
       "      <td>0.0</td>\n",
       "      <td>0.0</td>\n",
       "      <td>0.0</td>\n",
       "      <td>-1.0</td>\n",
       "    </tr>\n",
       "    <tr>\n",
       "      <th>3</th>\n",
       "      <td>0.0</td>\n",
       "      <td>0.0</td>\n",
       "      <td>0.0</td>\n",
       "      <td>0.0</td>\n",
       "      <td>0.0</td>\n",
       "      <td>0.0</td>\n",
       "      <td>0.0</td>\n",
       "      <td>0.0</td>\n",
       "      <td>0.0</td>\n",
       "      <td>0.0</td>\n",
       "      <td>...</td>\n",
       "      <td>0.0</td>\n",
       "      <td>0.0</td>\n",
       "      <td>0.0</td>\n",
       "      <td>0.0</td>\n",
       "      <td>0.0</td>\n",
       "      <td>0.0</td>\n",
       "      <td>0.0</td>\n",
       "      <td>0.0</td>\n",
       "      <td>0.0</td>\n",
       "      <td>-1.0</td>\n",
       "    </tr>\n",
       "    <tr>\n",
       "      <th>4</th>\n",
       "      <td>0.0</td>\n",
       "      <td>0.0</td>\n",
       "      <td>0.0</td>\n",
       "      <td>0.0</td>\n",
       "      <td>0.0</td>\n",
       "      <td>0.0</td>\n",
       "      <td>0.0</td>\n",
       "      <td>0.0</td>\n",
       "      <td>0.0</td>\n",
       "      <td>0.0</td>\n",
       "      <td>...</td>\n",
       "      <td>0.0</td>\n",
       "      <td>0.0</td>\n",
       "      <td>0.0</td>\n",
       "      <td>0.0</td>\n",
       "      <td>0.0</td>\n",
       "      <td>0.0</td>\n",
       "      <td>0.0</td>\n",
       "      <td>0.0</td>\n",
       "      <td>0.0</td>\n",
       "      <td>1.0</td>\n",
       "    </tr>\n",
       "  </tbody>\n",
       "</table>\n",
       "<p>5 rows × 401 columns</p>\n",
       "</div>"
      ],
      "text/plain": [
       "     0    1    2    3    4    5    6    7    8    9  ...  391  392  393  394  \\\n",
       "0  0.0  0.0  0.0  0.0  0.0  0.0  1.0  0.0  0.0  0.0  ...  0.0  0.0  0.0  0.0   \n",
       "1  0.0  0.0  0.0  0.0  0.0  0.0  0.0  0.0  0.0  0.0  ...  0.0  0.0  0.0  0.0   \n",
       "2  0.0  0.0  0.0  0.0  0.0  0.0  0.0  0.0  0.0  0.0  ...  0.0  0.0  0.0  0.0   \n",
       "3  0.0  0.0  0.0  0.0  0.0  0.0  0.0  0.0  0.0  0.0  ...  0.0  0.0  0.0  0.0   \n",
       "4  0.0  0.0  0.0  0.0  0.0  0.0  0.0  0.0  0.0  0.0  ...  0.0  0.0  0.0  0.0   \n",
       "\n",
       "   395  396  397  398  399  400  \n",
       "0  0.0  0.0  0.0  0.0  0.0 -1.0  \n",
       "1  0.0  0.0  0.0  0.0  0.0 -1.0  \n",
       "2  0.0  0.0  0.0  0.0  0.0 -1.0  \n",
       "3  0.0  0.0  0.0  0.0  0.0 -1.0  \n",
       "4  0.0  0.0  0.0  0.0  0.0  1.0  \n",
       "\n",
       "[5 rows x 401 columns]"
      ]
     },
     "execution_count": 14,
     "metadata": {},
     "output_type": "execute_result"
    }
   ],
   "source": [
    "data_df.head()"
   ]
  },
  {
   "cell_type": "markdown",
   "metadata": {},
   "source": [
    "E o tamanho dos dados com .shape:"
   ]
  },
  {
   "cell_type": "code",
   "execution_count": 15,
   "metadata": {},
   "outputs": [
    {
     "data": {
      "text/plain": [
       "(1000, 401)"
      ]
     },
     "execution_count": 15,
     "metadata": {},
     "output_type": "execute_result"
    }
   ],
   "source": [
    "data_df.shape"
   ]
  },
  {
   "cell_type": "code",
   "execution_count": 16,
   "metadata": {},
   "outputs": [],
   "source": [
    "data = data_df.to_numpy()"
   ]
  },
  {
   "cell_type": "markdown",
   "metadata": {},
   "source": [
    "Fizemos uma função para visualizarmos a imagem que queremos, precisamos passar o data frame e a linha que queremos visualizar:"
   ]
  },
  {
   "cell_type": "code",
   "execution_count": 17,
   "metadata": {},
   "outputs": [],
   "source": [
    "def showImage(image_line_index,data):\n",
    "    img = data[image_line_index,:-1].reshape((20,20))\n",
    "    plt.imshow(img,cmap='gray')"
   ]
  },
  {
   "cell_type": "markdown",
   "metadata": {},
   "source": [
    "No caso, um exemplo para a linha 10:"
   ]
  },
  {
   "cell_type": "code",
   "execution_count": 18,
   "metadata": {},
   "outputs": [
    {
     "data": {
      "image/png": "[encoded data removed]",
      "text/plain": [
       "<Figure size 640x480 with 1 Axes>"
      ]
     },
     "metadata": {},
     "output_type": "display_data"
    }
   ],
   "source": [
    "showImage(10, data)"
   ]
  },
  {
   "cell_type": "markdown",
   "metadata": {},
   "source": [
    "Podemos ver que ela é um circulo, e para verificar que de fato é um circulo podemos ver a ultima coluna do dataframe na linha 10 e devemos ver \"-1\":"
   ]
  },
  {
   "cell_type": "code",
   "execution_count": 19,
   "metadata": {},
   "outputs": [
    {
     "data": {
      "text/plain": [
       "1.0"
      ]
     },
     "execution_count": 19,
     "metadata": {},
     "output_type": "execute_result"
    }
   ],
   "source": [
    "data[10, 400]"
   ]
  },
  {
   "cell_type": "code",
   "execution_count": 20,
   "metadata": {},
   "outputs": [],
   "source": [
    "def getLabel(image_line_index,data):\n",
    "    return data[image_line_index,400]"
   ]
  },
  {
   "cell_type": "code",
   "execution_count": 21,
   "metadata": {},
   "outputs": [],
   "source": [
    "def sgn(v):\n",
    "    return np.where(v > 0, 1, -1)"
   ]
  },
  {
   "cell_type": "markdown",
   "metadata": {},
   "source": [
    "Queremos utilizar as primeiras 800 linhas do banco de dados para realizar o treinamento do perceptron, ajustando os pesos de forma iterativa.\n",
    "\n",
    "Já as outras 200 linhas serão utilizadas para avaliar o desempenho do nosso modelo para classificar circulos e quadrados, através da acurácia.\n",
    "\n",
    "Logo teremos 2 conjuntos de dados:\n",
    "\n",
    "- Xd = dados de treinamento\n",
    "- Xd_teste = dados de teste\n",
    "\n",
    "E o perceptron será implementado de forma iterativa. Abaixo temos a descrição das variáveis:\n",
    "- Xd = matriz de dados\n",
    "- eta = passo de adaptação\n",
    "- Ne = numero de épocas\n",
    "- Nb = tamanho do mini-batch"
   ]
  },
  {
   "cell_type": "markdown",
   "metadata": {},
   "source": [
    "Função de ativação não linear -> Neurônio de Rosenblatt"
   ]
  },
  {
   "cell_type": "code",
   "execution_count": 22,
   "metadata": {},
   "outputs": [],
   "source": [
    "def phi(v):\n",
    "    return sgn(v)"
   ]
  },
  {
   "cell_type": "code",
   "execution_count": 23,
   "metadata": {},
   "outputs": [],
   "source": [
    "def reorderData(Data):\n",
    "    np.random.shuffle(Data)\n",
    "    return Data\n",
    "\n",
    "def organizeDataByEpoch(l,Data,Nb):\n",
    "        \n",
    "        first_row = l*Nb\n",
    "        last_row  = l*Nb + Nb - 1\n",
    "\n",
    "        X = Data[:,:-1] #get data matrix\n",
    "        d = Data[:,(Data.shape[1]-1)] #get dada label colummn\n",
    "\n",
    "        Xl = X[first_row-1:last_row]\n",
    "        dl = d[first_row-1:last_row]\n",
    "\n",
    "        return Xl, dl\n",
    "\n",
    "\n",
    "def perceptronRosenblatt(Data,eta,Ne,Nb):\n",
    "    # Data = data matrix\n",
    "    # eta = adaptation step\n",
    "    # Ne = epochs number\n",
    "    # Nb = size of mini-batch\n",
    "\n",
    "    vm_1 = []\n",
    "    ym_1 = []\n",
    "    em_1 = []\n",
    "    W    = []\n",
    "\n",
    "    Nt = Data.shape[0] #get number of rows\n",
    "    Ncol = Data.shape[1] #get number of columns\n",
    "    Nmb = int(Nt/Nb) #mini-batch number per epoch\n",
    "\n",
    "    #0) Initialization\n",
    "    W.append(np.zeros(Ncol-1))\n",
    "\n",
    "    for k in range(1,Ne):\n",
    "        #1) Reorder Data\n",
    "        Data  = reorderData(Data)\n",
    "        for l in range(0,Nmb):\n",
    "            #2) Separate in X(l) and d(l)\n",
    "            Xl,dl = organizeDataByEpoch(l,Data,Nb)\n",
    "            #3)Training\n",
    "            m = (k-1)*Nmb + l + 1\n",
    "            vm_1.append(Xl@W[m-1])\n",
    "\n",
    "            #PRECISA FAZER OS RESHAPE PRA CALCULAR OS PRODUTOS CORRETAMENTE\n",
    "            ym_1.append(phi(vm_1[l]))\n",
    "            em_1.append(dl-ym_1[l])\n",
    "            W.append(W[m-1] + (eta/Nb)*Xl.T@em_1[l])\n",
    "\n",
    "    return W\n",
    "    "
   ]
  },
  {
   "cell_type": "code",
   "execution_count": 24,
   "metadata": {},
   "outputs": [],
   "source": [
    "def perceptronAccuracy(W,X_test):\n",
    "    X = X_test[:,:-1] #get data matrix\n",
    "    d = X_test[:,(X_test.shape[1]-1)] #get data label column\n",
    "\n",
    "    y = np.sign(X@W[-1]) #make predictions using the last weight matrix in W\n",
    "    accuracy = np.sum(y == d)/d.shape[0] #calculate accuracy\n",
    "\n",
    "    correct_classification = np.sum(y == d)\n",
    "    total_examples = d.shape[0]\n",
    "    total_accuracy = correct_classification / total_examples\n",
    "\n",
    "    return total_accuracy"
   ]
  },
  {
   "cell_type": "code",
   "execution_count": 25,
   "metadata": {},
   "outputs": [
    {
     "name": "stdout",
     "output_type": "stream",
     "text": [
      "Best eta: 0.01\n",
      "Best Ne: 10\n",
      "Best Nb: 10\n",
      "Best accuracy: 0.52\n"
     ]
    },
    {
     "ename": "KeyboardInterrupt",
     "evalue": "",
     "output_type": "error",
     "traceback": [
      "\u001b[1;31m---------------------------------------------------------------------------\u001b[0m",
      "\u001b[1;31mKeyboardInterrupt\u001b[0m                         Traceback (most recent call last)",
      "Cell \u001b[1;32mIn[25], line 21\u001b[0m\n\u001b[0;32m     18\u001b[0m \u001b[39mfor\u001b[39;00m Ne \u001b[39min\u001b[39;00m Ne_range:\n\u001b[0;32m     19\u001b[0m     \u001b[39mfor\u001b[39;00m Nb \u001b[39min\u001b[39;00m Nb_range:\n\u001b[0;32m     20\u001b[0m         \u001b[39m# Train the perceptron with the current hyperparameters\u001b[39;00m\n\u001b[1;32m---> 21\u001b[0m         W \u001b[39m=\u001b[39m perceptronRosenblatt(Xd, eta, Ne, Nb)\n\u001b[0;32m     23\u001b[0m         \u001b[39m# Use the trained perceptron to make predictions on the test data\u001b[39;00m\n\u001b[0;32m     24\u001b[0m         y_pred \u001b[39m=\u001b[39m np\u001b[39m.\u001b[39msign(Xd_test[:,:\u001b[39m-\u001b[39m\u001b[39m1\u001b[39m] \u001b[39m@\u001b[39m W[\u001b[39m-\u001b[39m\u001b[39m1\u001b[39m])\n",
      "Cell \u001b[1;32mIn[23], line 39\u001b[0m, in \u001b[0;36mperceptronRosenblatt\u001b[1;34m(Data, eta, Ne, Nb)\u001b[0m\n\u001b[0;32m     35\u001b[0m W\u001b[39m.\u001b[39mappend(np\u001b[39m.\u001b[39mzeros(Ncol\u001b[39m-\u001b[39m\u001b[39m1\u001b[39m))\n\u001b[0;32m     37\u001b[0m \u001b[39mfor\u001b[39;00m k \u001b[39min\u001b[39;00m \u001b[39mrange\u001b[39m(\u001b[39m1\u001b[39m,Ne):\n\u001b[0;32m     38\u001b[0m     \u001b[39m#1) Reorder Data\u001b[39;00m\n\u001b[1;32m---> 39\u001b[0m     Data  \u001b[39m=\u001b[39m reorderData(Data)\n\u001b[0;32m     40\u001b[0m     \u001b[39mfor\u001b[39;00m l \u001b[39min\u001b[39;00m \u001b[39mrange\u001b[39m(\u001b[39m0\u001b[39m,Nmb):\n\u001b[0;32m     41\u001b[0m         \u001b[39m#2) Separate in X(l) and d(l)\u001b[39;00m\n\u001b[0;32m     42\u001b[0m         Xl,dl \u001b[39m=\u001b[39m organizeDataByEpoch(l,Data,Nb)\n",
      "Cell \u001b[1;32mIn[23], line 2\u001b[0m, in \u001b[0;36mreorderData\u001b[1;34m(Data)\u001b[0m\n\u001b[0;32m      1\u001b[0m \u001b[39mdef\u001b[39;00m \u001b[39mreorderData\u001b[39m(Data):\n\u001b[1;32m----> 2\u001b[0m     np\u001b[39m.\u001b[39mrandom\u001b[39m.\u001b[39mshuffle(Data)\n\u001b[0;32m      3\u001b[0m     \u001b[39mreturn\u001b[39;00m Data\n",
      "\u001b[1;31mKeyboardInterrupt\u001b[0m: "
     ]
    }
   ],
   "source": [
    "\n",
    "# Define the range of hyperparameters to test\n",
    "eta_range = np.arange(0.01, 1.01, 0.01)\n",
    "Ne_range = np.arange(10, 201, 10)\n",
    "Nb_range = np.arange(10, 201, 10)\n",
    "\n",
    "# Load the training and test data\n",
    "Xd = data[:800, :]\n",
    "Xd_test = data[800:, :]\n",
    "\n",
    "# Initialize variables to store the best hyperparameters and accuracy\n",
    "best_eta = 0\n",
    "best_Ne = 0\n",
    "best_Nb = 0\n",
    "best_accuracy = 0\n",
    "\n",
    "# Iterate over the hyperparameter values\n",
    "for eta in eta_range:\n",
    "    for Ne in Ne_range:\n",
    "        for Nb in Nb_range:\n",
    "            # Train the perceptron with the current hyperparameters\n",
    "            W = perceptronRosenblatt(Xd, eta, Ne, Nb)\n",
    "\n",
    "            # Use the trained perceptron to make predictions on the test data\n",
    "            y_pred = np.sign(Xd_test[:,:-1] @ W[-1])\n",
    "\n",
    "            # Calculate the accuracy of the predictions\n",
    "            accuracy = perceptronAccuracy(W, Xd_test)\n",
    "\n",
    "            # Update the best hyperparameters and accuracy if the current model is better\n",
    "            if accuracy > best_accuracy:\n",
    "                best_eta = eta\n",
    "                best_Ne = Ne\n",
    "                best_Nb = Nb\n",
    "                best_accuracy = accuracy\n",
    "                print(\"Best eta:\", best_eta)\n",
    "                print(\"Best Ne:\", best_Ne)\n",
    "                print(\"Best Nb:\", best_Nb)\n",
    "                print(\"Best accuracy:\", best_accuracy)\n",
    "\n",
    "# Print the best hyperparameters and accuracy\n",
    "print(\"##### TRUE BEST RESULTS #####\")\n",
    "print(\"Best eta:\", best_eta)\n",
    "print(\"Best Ne:\", best_Ne)\n",
    "print(\"Best Nb:\", best_Nb)\n",
    "print(\"Best accuracy:\", best_accuracy)"
   ]
  }
 ],
 "metadata": {
  "kernelspec": {
   "display_name": "Python 3",
   "language": "python",
   "name": "python3"
  },
  "language_info": {
   "codemirror_mode": {
    "name": "ipython",
    "version": 3
   },
   "file_extension": ".py",
   "mimetype": "text/x-python",
   "name": "python",
   "nbconvert_exporter": "python",
   "pygments_lexer": "ipython3",
   "version": "3.11.2"
  },
  "orig_nbformat": 4
 },
 "nbformat": 4,
 "nbformat_minor": 2
}
